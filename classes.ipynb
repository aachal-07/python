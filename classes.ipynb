{
 "cells": [
  {
   "cell_type": "code",
   "execution_count": 1,
   "id": "dac6175e",
   "metadata": {},
   "outputs": [],
   "source": [
    "#CLASS IN OOPS  "
   ]
  },
  {
   "cell_type": "code",
   "execution_count": 2,
   "id": "994428da",
   "metadata": {},
   "outputs": [],
   "source": [
    "class Student:   ## Student is a class  class is keyword\n",
    "    pass "
   ]
  },
  {
   "cell_type": "code",
   "execution_count": 3,
   "id": "95f1efef",
   "metadata": {},
   "outputs": [],
   "source": [
    "class Bank:\n",
    "    name = \"ritik\"\n",
    "    age = 20\n",
    "    address = \"delhi\"\n",
    "    pincode = 110001\n",
    "    mobile = 9999999999\n",
    "    balance = 10000\n",
    "bank_obj =Bank()   # object"
   ]
  },
  {
   "cell_type": "code",
   "execution_count": 4,
   "id": "3addb0d7",
   "metadata": {},
   "outputs": [
    {
     "name": "stdout",
     "output_type": "stream",
     "text": [
      "bank name:- ritik\n",
      "bank age:- 20\n",
      "bank address:- delhi\n",
      "bank pincode:- 110001\n",
      "bank mobile:- 9999999999\n",
      "bank balance:- 10000\n"
     ]
    }
   ],
   "source": [
    "print(\"bank name:-\",bank_obj.name) \n",
    "print(\"bank age:-\",bank_obj.age)\n",
    "print(\"bank address:-\",bank_obj.address)\n",
    "print(\"bank pincode:-\",bank_obj.pincode)\n",
    "print(\"bank mobile:-\",bank_obj.mobile)\n",
    "print(\"bank balance:-\",bank_obj.balance)"
   ]
  },
  {
   "cell_type": "code",
   "execution_count": 5,
   "id": "394234c8",
   "metadata": {},
   "outputs": [],
   "source": [
    "class Bank:\n",
    "    name = \"ritik\"\n",
    "    age = 20\n",
    "    address = \"delhi\"\n",
    "    pincode = 110001\n",
    "    mobile = 9999999999\n",
    "    balance = 10000\n",
    "    def  show_info(self):\n",
    "        print(self.name )\n",
    "        print(self.address)\n",
    "        print(self.pincode)\n",
    "        print(self.balance) \n",
    "        print(self.mobile)\n",
    "        # print(name , address, pincode, balance, mobile)\n",
    "bank_obj=Bank() "
   ]
  },
  {
   "cell_type": "code",
   "execution_count": 6,
   "id": "560f6aa7",
   "metadata": {},
   "outputs": [
    {
     "name": "stdout",
     "output_type": "stream",
     "text": [
      "ritik\n",
      "delhi\n",
      "110001\n",
      "10000\n",
      "9999999999\n",
      "ritik\n",
      "delhi\n",
      "110001\n",
      "10000\n",
      "9999999999\n"
     ]
    }
   ],
   "source": [
    "# bank_obj.name, bank_obj.address, bank_obj.pincode,  bank_obj.balance\n",
    "\n",
    "bank_obj.show_info()\n",
    "\n",
    "bank_obj.show_info()"
   ]
  },
  {
   "cell_type": "code",
   "execution_count": 7,
   "id": "9c4b6dec",
   "metadata": {},
   "outputs": [],
   "source": [
    "#CONSTRUCTORS"
   ]
  },
  {
   "cell_type": "code",
   "execution_count": 8,
   "id": "a67ad6d7",
   "metadata": {},
   "outputs": [],
   "source": [
    "class Bank:\n",
    "    def __init__(self): \n",
    "        pass \n",
    "bank_obj=Bank()"
   ]
  },
  {
   "cell_type": "code",
   "execution_count": 9,
   "id": "945291f4",
   "metadata": {},
   "outputs": [
    {
     "name": "stdout",
     "output_type": "stream",
     "text": [
      "ritik\n",
      "delhi\n",
      "110001\n",
      "10000\n"
     ]
    }
   ],
   "source": [
    "class Bank:\n",
    "    mera_name = \"ritik\"  # class variable\n",
    "    def __init__(self): # constructor and self is a keyword\n",
    "        self.name = \"ritik\"  # instance variable\n",
    "        self.address = \"delhi\"\n",
    "        self.pincode = 110001\n",
    "        self.balance = 10000\n",
    "\n",
    "\n",
    "    def show_info(self):\n",
    "        print(self.name)\n",
    "        print(self.address)\n",
    "        print(self.pincode)\n",
    "        print(self.balance)\n",
    "        \n",
    "bank_obj=Bank()\n",
    "bank_obj.show_info()"
   ]
  },
  {
   "cell_type": "code",
   "execution_count": 10,
   "id": "68942ced",
   "metadata": {},
   "outputs": [
    {
     "name": "stdout",
     "output_type": "stream",
     "text": [
      "ritik\n",
      "delhi\n",
      "110001\n",
      "10000\n"
     ]
    }
   ],
   "source": [
    "# print(bank_obj.mera_name)\n",
    "print(bank_obj.name)\n",
    "print(bank_obj.address)\n",
    "print(bank_obj.pincode)\n",
    "print(bank_obj.balance)"
   ]
  },
  {
   "cell_type": "code",
   "execution_count": 11,
   "id": "690a10db",
   "metadata": {},
   "outputs": [],
   "source": [
    "class Bank:\n",
    "    def __init__(self, name,address, balance, pincode ):\n",
    "        self.name = name \n",
    "        self.address = address\n",
    "        self.pincode = pincode\n",
    "        self.balance = balance\n",
    "\n",
    "\n",
    "obj_bank1=Bank(name=\"ritik\", address=\"delhi\", balance=10000, pincode=110001)"
   ]
  },
  {
   "cell_type": "code",
   "execution_count": 12,
   "id": "e80d70ee",
   "metadata": {},
   "outputs": [
    {
     "data": {
      "text/plain": [
       "10000"
      ]
     },
     "execution_count": 12,
     "metadata": {},
     "output_type": "execute_result"
    }
   ],
   "source": [
    "obj_bank1.balance"
   ]
  },
  {
   "cell_type": "code",
   "execution_count": 13,
   "id": "9e0996e2",
   "metadata": {},
   "outputs": [
    {
     "data": {
      "text/plain": [
       "'ritik'"
      ]
     },
     "execution_count": 13,
     "metadata": {},
     "output_type": "execute_result"
    }
   ],
   "source": [
    "obj_bank1.name"
   ]
  },
  {
   "cell_type": "code",
   "execution_count": 14,
   "id": "675e382c",
   "metadata": {},
   "outputs": [
    {
     "data": {
      "text/plain": [
       "'delhi'"
      ]
     },
     "execution_count": 14,
     "metadata": {},
     "output_type": "execute_result"
    }
   ],
   "source": [
    "obj_bank1.address"
   ]
  },
  {
   "cell_type": "code",
   "execution_count": 15,
   "id": "1e6ef55b",
   "metadata": {},
   "outputs": [],
   "source": [
    "kapil_bank=Bank(name=\"kapil\", address=\"alwar\", balance=100000, pincode=20001)\n",
    "ritik_bank=Bank(name=\"ritik\", address=\"delhi\", balance=10000, pincode=110001)"
   ]
  },
  {
   "cell_type": "code",
   "execution_count": 16,
   "id": "7a24613f",
   "metadata": {},
   "outputs": [
    {
     "data": {
      "text/plain": [
       "(100000, 'kapil', 'alwar', 20001)"
      ]
     },
     "execution_count": 16,
     "metadata": {},
     "output_type": "execute_result"
    }
   ],
   "source": [
    "kapil_bank.balance, kapil_bank.name, kapil_bank.address, kapil_bank.pincode"
   ]
  },
  {
   "cell_type": "code",
   "execution_count": 17,
   "id": "3cdbeb7d",
   "metadata": {},
   "outputs": [
    {
     "data": {
      "text/plain": [
       "(10000, 'ritik', 'delhi', 110001)"
      ]
     },
     "execution_count": 17,
     "metadata": {},
     "output_type": "execute_result"
    }
   ],
   "source": [
    "ritik_bank.balance, ritik_bank.name, ritik_bank.address, ritik_bank.pincode"
   ]
  }
 ],
 "metadata": {
  "kernelspec": {
   "display_name": "Python 3",
   "language": "python",
   "name": "python3"
  },
  "language_info": {
   "codemirror_mode": {
    "name": "ipython",
    "version": 3
   },
   "file_extension": ".py",
   "mimetype": "text/x-python",
   "name": "python",
   "nbconvert_exporter": "python",
   "pygments_lexer": "ipython3",
   "version": "3.12.2"
  }
 },
 "nbformat": 4,
 "nbformat_minor": 5
}
