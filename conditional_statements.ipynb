{
 "cells": [
  {
   "cell_type": "markdown",
   "id": "ba61fa91",
   "metadata": {},
   "source": [
    "CONDITIONAL STATEMENTS\n",
    "\n",
    "A conditional statement in programming is a control structure that allows a program to execute different blocks of code based on specific conditions. It enables the program to make decisions and choose between alternative actions."
   ]
  },
  {
   "cell_type": "code",
   "execution_count": 1,
   "id": "91f2214f",
   "metadata": {},
   "outputs": [
    {
     "name": "stdout",
     "output_type": "stream",
     "text": [
      "x is greater than 5\n"
     ]
    }
   ],
   "source": [
    "x = 10 \n",
    "if x>5:\n",
    "    print(\"x is greater than 5\")"
   ]
  },
  {
   "cell_type": "code",
   "execution_count": 2,
   "id": "c6b26745",
   "metadata": {},
   "outputs": [
    {
     "name": "stdout",
     "output_type": "stream",
     "text": [
      "x is less than 5\n"
     ]
    }
   ],
   "source": [
    "x = 10 \n",
    "if x>15:\n",
    "    print(\"x is greater than 5\")\n",
    "else:\n",
    "    print(\"x is less than 5\")"
   ]
  },
  {
   "cell_type": "code",
   "execution_count": 3,
   "id": "2d7f3846",
   "metadata": {},
   "outputs": [
    {
     "name": "stdout",
     "output_type": "stream",
     "text": [
      "x is greater than 5\n"
     ]
    }
   ],
   "source": [
    "x = 7 \n",
    "if x >10:\n",
    "    print(\"x is greater than 10\")\n",
    "elif x>5:\n",
    "    print(\"x is greater than 5\")\n",
    "else:\n",
    "    print(\"x is less than 5\")"
   ]
  },
  {
   "cell_type": "code",
   "execution_count": 4,
   "id": "fdb93427",
   "metadata": {},
   "outputs": [
    {
     "name": "stdout",
     "output_type": "stream",
     "text": [
      "x is between 10 to 20\n"
     ]
    }
   ],
   "source": [
    "x = 15 \n",
    "if x>10:\n",
    "    if x<20:\n",
    "        print(\"x is between 10 to 20\")"
   ]
  },
  {
   "cell_type": "code",
   "execution_count": 5,
   "id": "4ef95cef",
   "metadata": {},
   "outputs": [],
   "source": [
    "x = 15\n",
    "if x>0:\n",
    "    pass "
   ]
  },
  {
   "cell_type": "code",
   "execution_count": 6,
   "id": "2d8a24fe",
   "metadata": {},
   "outputs": [
    {
     "name": "stdout",
     "output_type": "stream",
     "text": [
      "7 is Odd\n"
     ]
    }
   ],
   "source": [
    "x = 7  \n",
    "\n",
    "if x % 2 == 0:\n",
    "    print(f\"{x} is Even\")\n",
    "else:\n",
    "    print(f\"{x} is Odd\")"
   ]
  }
 ],
 "metadata": {
  "kernelspec": {
   "display_name": "Python 3",
   "language": "python",
   "name": "python3"
  },
  "language_info": {
   "codemirror_mode": {
    "name": "ipython",
    "version": 3
   },
   "file_extension": ".py",
   "mimetype": "text/x-python",
   "name": "python",
   "nbconvert_exporter": "python",
   "pygments_lexer": "ipython3",
   "version": "3.12.2"
  }
 },
 "nbformat": 4,
 "nbformat_minor": 5
}
