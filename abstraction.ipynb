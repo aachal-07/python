{
 "cells": [
  {
   "cell_type": "code",
   "execution_count": 1,
   "id": "c61c451c",
   "metadata": {},
   "outputs": [],
   "source": [
    "class Bank:\n",
    "    name = \"ritik\"\n",
    "    age = 20\n",
    "    address = \"delhi\"\n",
    "    pincode = 110001\n",
    "    mobile = 9999999999\n",
    "    balance = 10000\n",
    "    def  show_info(self):\n",
    "        print(self.name )\n",
    "        print(self.address)\n",
    "        print(self.pincode)\n",
    "        print(self.balance) \n",
    "        print(self.mobile)\n",
    "        # print(name , address, pincode, balance, mobile)\n",
    "bank_obj=Bank() "
   ]
  },
  {
   "cell_type": "code",
   "execution_count": 2,
   "id": "bc761178",
   "metadata": {},
   "outputs": [
    {
     "name": "stdout",
     "output_type": "stream",
     "text": [
      "ritik\n",
      "delhi\n",
      "110001\n",
      "10000\n",
      "9999999999\n",
      "ritik\n",
      "delhi\n",
      "110001\n",
      "10000\n",
      "9999999999\n"
     ]
    }
   ],
   "source": [
    "# bank_obj.name, bank_obj.address, bank_obj.pincode,  bank_obj.balance\n",
    "\n",
    "bank_obj.show_info()\n",
    "\n",
    "bank_obj.show_info()"
   ]
  }
 ],
 "metadata": {
  "kernelspec": {
   "display_name": "Python 3",
   "language": "python",
   "name": "python3"
  },
  "language_info": {
   "codemirror_mode": {
    "name": "ipython",
    "version": 3
   },
   "file_extension": ".py",
   "mimetype": "text/x-python",
   "name": "python",
   "nbconvert_exporter": "python",
   "pygments_lexer": "ipython3",
   "version": "3.12.2"
  }
 },
 "nbformat": 4,
 "nbformat_minor": 5
}
